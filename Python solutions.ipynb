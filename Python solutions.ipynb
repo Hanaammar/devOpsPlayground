{
 "cells": [
  {
   "cell_type": "markdown",
   "id": "2c58d65f",
   "metadata": {},
   "source": [
    "## Is unique string"
   ]
  },
  {
   "cell_type": "code",
   "execution_count": 4,
   "id": "9cb5b2c3",
   "metadata": {},
   "outputs": [],
   "source": [
    "my_str = 'bacdfgjhlukje'"
   ]
  },
  {
   "cell_type": "markdown",
   "id": "312e1847",
   "metadata": {},
   "source": [
    "### The natural solution"
   ]
  },
  {
   "cell_type": "code",
   "execution_count": 6,
   "id": "b16e5619",
   "metadata": {},
   "outputs": [
    {
     "name": "stdout",
     "output_type": "stream",
     "text": [
      "is'nt unique\n"
     ]
    }
   ],
   "source": [
    "is_unique = True\n",
    "\n",
    "for i in range(len(my_str)):\n",
    "    for j in range(i + 1, len(my_str)):\n",
    "        if my_str[i] == my_str[j]:\n",
    "            is_unique = False\n",
    "\n",
    "if is_unique:\n",
    "    print(\"is unique\")\n",
    "else:\n",
    "    print(\"is'nt unique\")\n",
    "    \n",
    "# alternative\n",
    "# print(\"is unique\" if is_unique else \"is'nt unique\")"
   ]
  },
  {
   "cell_type": "markdown",
   "id": "47098265",
   "metadata": {},
   "source": [
    "### The optimal solution"
   ]
  },
  {
   "cell_type": "code",
   "execution_count": 3,
   "id": "b9e91200",
   "metadata": {},
   "outputs": [
    {
     "name": "stdout",
     "output_type": "stream",
     "text": [
      "isn't unique\n"
     ]
    }
   ],
   "source": [
    "visited_char = {}\n",
    "\n",
    "my_str = 'bacdfgjhlukje'\n",
    "\n",
    "for c in my_str:\n",
    "    if c in visited_char:\n",
    "        print(\"isn't unique\")\n",
    "        break\n",
    "        \n",
    "    visited_char[c] = True"
   ]
  },
  {
   "cell_type": "markdown",
   "id": "cdbc8e5b",
   "metadata": {},
   "source": [
    "### The elegant solution"
   ]
  },
  {
   "cell_type": "code",
   "execution_count": 17,
   "id": "2df1fcc5",
   "metadata": {},
   "outputs": [
    {
     "name": "stdout",
     "output_type": "stream",
     "text": [
      "is unique\n"
     ]
    }
   ],
   "source": [
    "if len(set(my_str)) == len(my_str):\n",
    "    print('is unique')\n",
    "else:\n",
    "    print(\"isn't unique\")"
   ]
  },
  {
   "cell_type": "markdown",
   "id": "8c3ac222",
   "metadata": {},
   "source": [
    "## Sum of elements"
   ]
  },
  {
   "cell_type": "code",
   "execution_count": 21,
   "id": "b62076d0",
   "metadata": {},
   "outputs": [],
   "source": [
    "my_list = [1, 2, 3, 4, 5, 6, 7, 8]"
   ]
  },
  {
   "cell_type": "markdown",
   "id": "cddb228b",
   "metadata": {},
   "source": [
    "### The elegant solution"
   ]
  },
  {
   "cell_type": "code",
   "execution_count": 22,
   "id": "1a06d235",
   "metadata": {},
   "outputs": [
    {
     "data": {
      "text/plain": [
       "36"
      ]
     },
     "execution_count": 22,
     "metadata": {},
     "output_type": "execute_result"
    }
   ],
   "source": [
    "sum(my_list)"
   ]
  },
  {
   "cell_type": "markdown",
   "id": "78a69d7c",
   "metadata": {},
   "source": [
    "### The natural solution"
   ]
  },
  {
   "cell_type": "code",
   "execution_count": 24,
   "id": "fa125f97",
   "metadata": {},
   "outputs": [
    {
     "name": "stdout",
     "output_type": "stream",
     "text": [
      "36\n"
     ]
    }
   ],
   "source": [
    "s = 0\n",
    "for num in my_list:\n",
    "    s = s + num\n",
    "print(s)"
   ]
  },
  {
   "cell_type": "markdown",
   "id": "24d47fca",
   "metadata": {},
   "source": [
    "### The recursive solution"
   ]
  },
  {
   "cell_type": "code",
   "execution_count": 26,
   "id": "f32f9242",
   "metadata": {},
   "outputs": [
    {
     "data": {
      "text/plain": [
       "36"
      ]
     },
     "execution_count": 26,
     "metadata": {},
     "output_type": "execute_result"
    }
   ],
   "source": [
    "def sum_of_all(lst):\n",
    "    if len(lst) == 0:\n",
    "        return 0\n",
    "    return sum_of_all(lst[1:]) + lst[0]\n",
    "\n",
    "\n",
    "sum_of_all(my_list)"
   ]
  },
  {
   "cell_type": "markdown",
   "id": "cece4fce",
   "metadata": {},
   "source": [
    "## Zig Zag"
   ]
  },
  {
   "cell_type": "code",
   "execution_count": 1,
   "id": "c66d0a5c",
   "metadata": {},
   "outputs": [],
   "source": [
    "a = [9, 8, 8, 5, 3, 5, 3, 2, 8, 6]"
   ]
  },
  {
   "cell_type": "code",
   "execution_count": 5,
   "id": "87df3c0a",
   "metadata": {},
   "outputs": [
    {
     "ename": "NameError",
     "evalue": "name 'a' is not defined",
     "output_type": "error",
     "traceback": [
      "\u001b[0;31m---------------------------------------------------------------------------\u001b[0m",
      "\u001b[0;31mNameError\u001b[0m                                 Traceback (most recent call last)",
      "\u001b[0;32m/tmp/ipykernel_11428/1430524374.py\u001b[0m in \u001b[0;36m<module>\u001b[0;34m\u001b[0m\n\u001b[1;32m      1\u001b[0m \u001b[0mmax_zz\u001b[0m \u001b[0;34m=\u001b[0m \u001b[0;36m0\u001b[0m\u001b[0;34m\u001b[0m\u001b[0;34m\u001b[0m\u001b[0m\n\u001b[1;32m      2\u001b[0m \u001b[0;34m\u001b[0m\u001b[0m\n\u001b[0;32m----> 3\u001b[0;31m \u001b[0;32mfor\u001b[0m \u001b[0mi\u001b[0m \u001b[0;32min\u001b[0m \u001b[0mrange\u001b[0m\u001b[0;34m(\u001b[0m\u001b[0mlen\u001b[0m\u001b[0;34m(\u001b[0m\u001b[0ma\u001b[0m\u001b[0;34m)\u001b[0m \u001b[0;34m-\u001b[0m \u001b[0;36m1\u001b[0m\u001b[0;34m)\u001b[0m\u001b[0;34m:\u001b[0m\u001b[0;34m\u001b[0m\u001b[0;34m\u001b[0m\u001b[0m\n\u001b[0m\u001b[1;32m      4\u001b[0m \u001b[0;34m\u001b[0m\u001b[0m\n\u001b[1;32m      5\u001b[0m     \u001b[0mzz_count\u001b[0m \u001b[0;34m=\u001b[0m \u001b[0;36m1\u001b[0m\u001b[0;34m\u001b[0m\u001b[0;34m\u001b[0m\u001b[0m\n",
      "\u001b[0;31mNameError\u001b[0m: name 'a' is not defined"
     ]
    }
   ],
   "source": [
    "max_zz = 0\n",
    "\n",
    "for i in range(len(a) - 1):\n",
    "\n",
    "    zz_count = 1  \n",
    "    zz_state = 0\n",
    "    \n",
    "    for j in range(i, len(a) - 1): \n",
    "        \n",
    "        if zz_state != -1 and a[j] < a[j + 1]:\n",
    "            zz_state = -1\n",
    "    \n",
    "        elif zz_state != 1 and a[i] > a[i + 1]:\n",
    "            zz_state = 1\n",
    "        else:\n",
    "            break  # breaking from the internal loop\n",
    "    \n",
    "    max_zz = max(zz_count, max_zz)\n",
    "\n",
    "print(max_zz)"
   ]
  },
  {
   "cell_type": "code",
   "execution_count": null,
   "id": "dddb51e6",
   "metadata": {},
   "outputs": [],
   "source": []
  },
  {
   "cell_type": "code",
   "execution_count": null,
   "id": "8b47447a",
   "metadata": {},
   "outputs": [],
   "source": []
  },
  {
   "cell_type": "code",
   "execution_count": null,
   "id": "a30be97f",
   "metadata": {},
   "outputs": [],
   "source": []
  },
  {
   "cell_type": "code",
   "execution_count": null,
   "id": "2c63836b",
   "metadata": {},
   "outputs": [],
   "source": []
  }
 ],
 "metadata": {
  "kernelspec": {
   "display_name": "Python 3 (ipykernel)",
   "language": "python",
   "name": "python3"
  },
  "language_info": {
   "codemirror_mode": {
    "name": "ipython",
    "version": 3
   },
   "file_extension": ".py",
   "mimetype": "text/x-python",
   "name": "python",
   "nbconvert_exporter": "python",
   "pygments_lexer": "ipython3",
   "version": "3.8.0"
  }
 },
 "nbformat": 4,
 "nbformat_minor": 5
}
